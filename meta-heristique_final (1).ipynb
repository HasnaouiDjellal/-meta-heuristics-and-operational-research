{
 "cells": [
  {
   "cell_type": "code",
   "execution_count": 2,
   "id": "d34cfb63",
   "metadata": {},
   "outputs": [],
   "source": []
  },
  {
   "cell_type": "code",
   "execution_count": 1,
   "id": "becba004",
   "metadata": {},
   "outputs": [
    {
     "name": "stdout",
     "output_type": "stream",
     "text": [
      "[C,[w],[p]]\n"
     ]
    }
   ],
   "source": [
    "print(\"[C,[w],[p]]\")\n",
    "par_list= [[269,[95,4,60,32,23,72,80,62,65,46],[55,10,47,5,4,50,8,61,85,87]],\n",
    "           [878,[92,4,43,83,84,68,92,82,6,44,32,18,56,83,25,96,70,48,14,58],[44,46,90,72,91,40,75,35,8,54,78,40,77,15,61,17,75,29,75,63]],\n",
    "           [1000,[80, 82, 85, 70, 72, 70, 66, 50, 55, 25, 50, 55, 40, 48, 59, 32, 22, 60, 30, 32, 40, 38,35, 32, 25, 28, 30, 22, 50, 30, 45, 30, 60, 50, 20, 65, 20, 25, 30, 10, 20, 25, 15, 10, 10,\n",
    "                  10, 4, 4, 2, 1],[220, 208, 198, 192, 180, 180, 165, 162, 160, 158, 155, 130, 125, 122, 120, 118,\n",
    "                                   115, 110, 105, 101, 100, 100, 98, 96, 95, 90, 88, 82, 80, 77, 75, 73, 72, 70, 69, 66, 65,\n",
    "                                   63, 60, 58, 56, 50, 30, 20, 15, 10, 8, 5, 3, 1]],\n",
    "           [1173,[40, 27, 5, 21,51, 16, 42, 18, 52, 28, 57, 34, 44, 43, 52, 55, 53, 42, 47, 56, 57, 44,\n",
    "16, 2, 12, 9, 40, 23, 56, 3, 39,16, 54, 36, 52,5, 53, 48, 23, 47, 41, 49, 22, 42, 10, 16,\n",
    "53, 58, 40, 1, 43, 56, 40, 32, 44, 35, 37, 45, 52, 56, 40, 2, 23,49, 50, 26, 11, 35, 32, 34,\n",
    "58, 6, 52, 26, 31, 23, 4, 52, 53, 19],[199, 194, 193, 191, 189, 178, 174, 169, 164, 164, 161, 158, 157, 154, 152, 152,\n",
    "149, 142, 131, 126, 124, 124, 124, 122, 119, 116, 114, 113, 111, 110, 109, 100, 97, 94,\n",
    "91, 82, 82, 81, 80, 80, 80, 79, 77, 76, 74, 72, 71, 70, 69,68, 65, 65, 61, 56, 55, 54, 53,\n",
    "47, 47, 46, 41, 36, 34, 32, 32,30, 29, 29, 26, 25, 23, 22, 20, 11, 10, 9, 5, 4, 3, 1]],\n",
    "           [3818 ,[54, 95, 36, 18, 4, 71, 83, 16, 27, 84, 88, 45, 94, 64, 14, 80, 4, 23, 75, 36, 90, 20,\n",
    "77, 32, 58, 6, 14, 86, 84, 59, 71, 21, 30, 22, 96, 49, 81, 48, 37, 28, 6, 84, 19, 55, 88, 38,\n",
    "51, 52, 79, 55, 70, 53, 64, 99, 61, 86, 1, 64, 32, 60, 42, 45, 34, 22, 49, 37, 33, 1, 78, 43,\n",
    "85, 24, 96, 32, 99, 57, 23, 8, 10, 74, 59, 89, 95, 40, 46, 65, 6, 89, 84, 83, 6, 19, 45, 59,\n",
    "26, 13, 8, 26, 5, 9],[297, 295, 293, 292, 291, 289, 284, 284, 283, 283, 281, 280, 279, 277, 276, 275,\n",
    "273,264, 260, 257, 250, 236, 236, 235, 235, 233, 232, 232, 228, 218, 217, 214, 211,\n",
    "208, 205, 204, 203, 201, 196, 194, 193, 193, 192, 191, 190, 187, 187, 184, 184, 184,\n",
    "181, 179, 176, 173, 172, 171, 160, 128, 123, 114, 113, 107, 105, 101, 100, 100, 99, 98,\n",
    "97, 94, 94, 93, 91, 80, 74, 73, 72, 63, 63, 62, 61, 60, 56, 53, 52, 50, 48, 46, 40, 40, 35,\n",
    "28, 22, 22, 18, 15, 12, 11,6, 5]]]\n",
    "\n"
   ]
  },
  {
   "cell_type": "code",
   "execution_count": 2,
   "id": "0382dbc3",
   "metadata": {},
   "outputs": [
    {
     "name": "stdout",
     "output_type": "stream",
     "text": [
      "PLEASE ENTRE THE NUMBER FROM 1 TO 5\n",
      "5\n",
      "YOU ENTRED VECTOR NUMBER 5 WITH 100 of demension\n",
      "3818\n",
      "[54, 95, 36, 18, 4, 71, 83, 16, 27, 84, 88, 45, 94, 64, 14, 80, 4, 23, 75, 36, 90, 20, 77, 32, 58, 6, 14, 86, 84, 59, 71, 21, 30, 22, 96, 49, 81, 48, 37, 28, 6, 84, 19, 55, 88, 38, 51, 52, 79, 55, 70, 53, 64, 99, 61, 86, 1, 64, 32, 60, 42, 45, 34, 22, 49, 37, 33, 1, 78, 43, 85, 24, 96, 32, 99, 57, 23, 8, 10, 74, 59, 89, 95, 40, 46, 65, 6, 89, 84, 83, 6, 19, 45, 59, 26, 13, 8, 26, 5, 9]\n",
      "[297, 295, 293, 292, 291, 289, 284, 284, 283, 283, 281, 280, 279, 277, 276, 275, 273, 264, 260, 257, 250, 236, 236, 235, 235, 233, 232, 232, 228, 218, 217, 214, 211, 208, 205, 204, 203, 201, 196, 194, 193, 193, 192, 191, 190, 187, 187, 184, 184, 184, 181, 179, 176, 173, 172, 171, 160, 128, 123, 114, 113, 107, 105, 101, 100, 100, 99, 98, 97, 94, 94, 93, 91, 80, 74, 73, 72, 63, 63, 62, 61, 60, 56, 53, 52, 50, 48, 46, 40, 40, 35, 28, 22, 22, 18, 15, 12, 11, 6, 5]\n"
     ]
    }
   ],
   "source": [
    "print(\"PLEASE ENTRE THE NUMBER FROM 1 TO 5\")\n",
    "n=int(input())\n",
    "if (n>0) and (n<6):\n",
    "    if (n==1) and (len(par_list[0][1]) == len(par_list[0][2])) :\n",
    "        print(\"YOU ENTRED VECTOR NUMBER\",1 ,\"WITH\",len(par_list[0][1]),\"of demension\" )\n",
    "        obj = par_list[0][0]\n",
    "        vp = par_list[0][1]\n",
    "        vpr =par_list[0][2]\n",
    "    if (n==2) and (len(par_list[1][1]) == len(par_list[1][2])):\n",
    "        print(\"YOU ENTRED VECTOR NUMBER\",2 ,\"WITH\",len(par_list[1][1]),\"of demension\" )\n",
    "        obj = par_list[1][0]\n",
    "        vp = par_list[1][1]\n",
    "        vpr =par_list[1][2]\n",
    "    if (n==3) and (len(par_list[2][1]) == len(par_list[2][2])):\n",
    "        print(\"YOU ENTRED VECTOR NUMBER\",3 ,\"WITH\",len(par_list[2][1]),\"of demension\" )\n",
    "        obj = par_list[2][0]\n",
    "        vp = par_list[2][1]\n",
    "        vpr =par_list[2][2]\n",
    "    if (n==4) and (len(par_list[3][1]) == len(par_list[3][2])):\n",
    "        print(\"YOU ENTRED VECTOR NUMBER\",4 ,\"WITH\",len(par_list[3][1]),\"of demension\" )\n",
    "        obj = par_list[3][0]\n",
    "        vp = par_list[3][1]\n",
    "        vpr =par_list[3][2]\n",
    "    if (n==5) and (len(par_list[4][1]) == len(par_list[4][2])):\n",
    "        print(\"YOU ENTRED VECTOR NUMBER\",5 ,\"WITH\",len(par_list[4][1]),\"of demension\" )\n",
    "        obj = par_list[4][0]\n",
    "        vp = par_list[4][1]\n",
    "        vpr =par_list[4][2]\n",
    "print(obj)\n",
    "print(vp)\n",
    "print(vpr)\n",
    "    \n",
    "    \n"
   ]
  },
  {
   "cell_type": "code",
   "execution_count": 3,
   "id": "dd9ab3d5",
   "metadata": {},
   "outputs": [],
   "source": [
    "def calc_som_poids(v,vp):   #somme des poids\n",
    "    sam = 0\n",
    "    for j in range(0,len(v)):\n",
    "        sam =sam + v[j]*vp[j]\n",
    "    return sam    \n"
   ]
  },
  {
   "cell_type": "code",
   "execution_count": 4,
   "id": "133c3c04",
   "metadata": {},
   "outputs": [],
   "source": [
    "def calc_som_porfait(v,vpr):  #somme des porfait\n",
    "    sam = 0\n",
    "    for j in range(0,len(v)):\n",
    "        sam =sam + v[j]*vpr[j]\n",
    "    return sam "
   ]
  },
  {
   "cell_type": "code",
   "execution_count": 5,
   "id": "a3456962",
   "metadata": {},
   "outputs": [],
   "source": [
    "from random import randint  #voisinage 1\n",
    "def voisinage1(s1):\n",
    "    for i in range(0,len(s1)):\n",
    "        r = randint(0,9)\n",
    "        if (s1[r] == 0):\n",
    "            s1[r] = 1 \n",
    "        else:\n",
    "            s1[r] = 0\n",
    "    return s1"
   ]
  },
  {
   "cell_type": "code",
   "execution_count": 6,
   "id": "78804b97",
   "metadata": {},
   "outputs": [],
   "source": [
    "from random import randint #voisinage 2\n",
    "def voisinage2(s2):\n",
    "    for i in range(0,len(s2)):\n",
    "        r1 = randint(0,4)\n",
    "        r2 = randint(5,9) \n",
    "        per = s2[r1]\n",
    "        s2[r1] = s2[r2]\n",
    "        s2[r2] = per\n",
    "    return s2\n"
   ]
  },
  {
   "cell_type": "code",
   "execution_count": 7,
   "id": "08d3ee76",
   "metadata": {},
   "outputs": [],
   "source": [
    "def voisinage3(s3):\n",
    "    for i in range(0,len(s3)): #voisinage 3\n",
    "        s3[i] = randint(0,1)\n",
    "    return s3"
   ]
  },
  {
   "cell_type": "code",
   "execution_count": 8,
   "id": "e980ee86",
   "metadata": {},
   "outputs": [],
   "source": [
    "def voisinage4(s4):\n",
    "    for i in range(0,len(s4)):\n",
    "        dst = len(s4) - (len(s4)//2) - 1 \n",
    "        ranb = randint(0,dst)\n",
    "        rand = 2*ranb \n",
    "        while ranb < rand : #voisinage 4\n",
    "            per = s4[ranb]\n",
    "            s4[ranb] = s4[rand]\n",
    "            s4[rand] = per \n",
    "            ranb = ranb + 1\n",
    "            rand = rand - 1\n",
    "    return s4    \n",
    "   "
   ]
  },
  {
   "cell_type": "code",
   "execution_count": 9,
   "id": "777024e1",
   "metadata": {},
   "outputs": [],
   "source": [
    "from random import randint\n",
    "def voisinage(f,v):\n",
    "    if (v == 0):\n",
    "        res = voisinage1(f)\n",
    "    else:\n",
    "            if (v == 1):\n",
    "                res = voisinage2(f)\n",
    "            else:\n",
    "                if (v == 2):\n",
    "                    res = voisinage3(f) \n",
    "                else:\n",
    "                     if (v == 3):\n",
    "                        res = voisinage4(f) \n",
    "    return res\n"
   ]
  },
  {
   "cell_type": "code",
   "execution_count": 10,
   "id": "5b63c0c3",
   "metadata": {},
   "outputs": [],
   "source": [
    "def glouton(profit, poids, capacity):\n",
    "    # index = [0, 1, 2, ..., n - 1] for n items\n",
    "    index = list(range(len(profit)))\n",
    "    # contains ratios of values to weight\n",
    "    ratio = [v/w for v, w in zip(profit, poids)]\n",
    "    # index is sorted according to value-to-weight ratio in decreasing order\n",
    "    index.sort(key=lambda i: ratio[i], reverse=True)\n",
    " \n",
    "    poids_total = 0\n",
    "    profit_total = 0\n",
    "    s = [0]*len(profit)\n",
    "    for i in index:\n",
    "        if poids[i] <= capacity:\n",
    "            s[i] = 1\n",
    "            profit_total += profit[i]\n",
    "            poids_total += poids[i]\n",
    "            capacity -= poids[i]\n",
    "\n",
    " \n",
    "    return s\n",
    "\n"
   ]
  },
  {
   "cell_type": "code",
   "execution_count": 11,
   "id": "47c487c6",
   "metadata": {},
   "outputs": [
    {
     "name": "stdout",
     "output_type": "stream",
     "text": [
      "La solution trouver dans glouton est :  [1, 1, 1, 1, 1, 1, 1, 1, 1, 1, 1, 1, 1, 1, 1, 1, 1, 1, 1, 1, 1, 1, 1, 1, 1, 1, 1, 1, 1, 1, 1, 1, 1, 1, 1, 1, 1, 1, 1, 1, 1, 1, 1, 1, 1, 1, 1, 1, 1, 1, 1, 1, 1, 1, 1, 1, 1, 1, 1, 1, 1, 1, 1, 1, 1, 1, 1, 1, 1, 1, 0, 1, 0, 1, 0, 1, 1, 1, 1, 0, 0, 0, 0, 1, 1, 0, 1, 0, 0, 0, 1, 1, 0, 0, 0, 1, 1, 0, 1, 0]\n",
      "Le profit total est :  15170\n",
      "Le poids total est :  3818\n"
     ]
    }
   ],
   "source": [
    "s0 = glouton(vpr, vp, obj) \n",
    "print(\"La solution trouver dans glouton est : \",s0)\n",
    "print(\"Le profit total est : \",calc_som_porfait(s0,vpr))\n",
    "print(\"Le poids total est : \", calc_som_poids(s0,vp))"
   ]
  },
  {
   "cell_type": "code",
   "execution_count": 12,
   "id": "2c64aa6c",
   "metadata": {},
   "outputs": [],
   "source": [
    "def knapSack(W, wt, val, n): \n",
    "    K = [[0 for x in range(W + 1)] for x in range(n + 1)] \n",
    "   \n",
    "    # Build table K[][] in bottom up manner \n",
    "    for i in range(n + 1): \n",
    "        for w in range(W + 1): \n",
    "            if i == 0 or w == 0: \n",
    "                K[i][w] = 0\n",
    "            elif wt[i-1] <= w: \n",
    "                K[i][w] = max(val[i-1] + K[i-1][w-wt[i-1]],K[i-1][w]) \n",
    "            else: \n",
    "                K[i][w] = K[i-1][w] \n",
    "   \n",
    "    return K[n][W] "
   ]
  },
  {
   "cell_type": "code",
   "execution_count": 13,
   "id": "194168f9",
   "metadata": {},
   "outputs": [],
   "source": [
    "def moyenne_erreur(sln,profit,n):\n",
    "    somme = 0\n",
    "    for i in range(0,len(sln)):\n",
    "         somme = somme + ((profit-calc_som_porfait(sln[i],vpr))/n)\n",
    "    return somme "
   ]
  },
  {
   "cell_type": "code",
   "execution_count": 14,
   "id": "18f45f61",
   "metadata": {},
   "outputs": [
    {
     "name": "stdout",
     "output_type": "stream",
     "text": [
      "svp entree n eteration\n",
      "1000\n",
      "svp etree kmax\n",
      "100\n",
      "15170\n",
      "svp etree kmax\n",
      "1000\n",
      "15170\n",
      "svp etree kmax\n"
     ]
    },
    {
     "ename": "KeyboardInterrupt",
     "evalue": "Interrupted by user",
     "output_type": "error",
     "traceback": [
      "\u001b[1;31m---------------------------------------------------------------------------\u001b[0m",
      "\u001b[1;31mKeyboardInterrupt\u001b[0m                         Traceback (most recent call last)",
      "Input \u001b[1;32mIn [14]\u001b[0m, in \u001b[0;36m<cell line: 35>\u001b[1;34m()\u001b[0m\n\u001b[0;32m     34\u001b[0m n\u001b[38;5;241m=\u001b[39m\u001b[38;5;28mint\u001b[39m(\u001b[38;5;28minput\u001b[39m())\n\u001b[0;32m     35\u001b[0m \u001b[38;5;28;01mfor\u001b[39;00m i \u001b[38;5;129;01min\u001b[39;00m \u001b[38;5;28mrange\u001b[39m(\u001b[38;5;241m0\u001b[39m,n):\n\u001b[1;32m---> 36\u001b[0m     lf \u001b[38;5;241m=\u001b[39m \u001b[43mvoisinage_solution\u001b[49m\u001b[43m(\u001b[49m\u001b[43m)\u001b[49m  \n\u001b[0;32m     37\u001b[0m     s_final_optimal \u001b[38;5;241m=\u001b[39m best_solution(lf,s_final_optimal)\n\u001b[0;32m     38\u001b[0m     \u001b[38;5;28mprint\u001b[39m(calc_som_porfait(s_final_optimal,vpr))\n",
      "Input \u001b[1;32mIn [14]\u001b[0m, in \u001b[0;36mvoisinage_solution\u001b[1;34m()\u001b[0m\n\u001b[0;32m      2\u001b[0m \u001b[38;5;28mlist\u001b[39m \u001b[38;5;241m=\u001b[39m []\n\u001b[0;32m      3\u001b[0m \u001b[38;5;28mprint\u001b[39m(\u001b[38;5;124m\"\u001b[39m\u001b[38;5;124msvp etree kmax\u001b[39m\u001b[38;5;124m\"\u001b[39m)\n\u001b[1;32m----> 4\u001b[0m kmax\u001b[38;5;241m=\u001b[39m\u001b[38;5;28mint\u001b[39m(\u001b[38;5;28;43minput\u001b[39;49m\u001b[43m(\u001b[49m\u001b[43m)\u001b[49m)\n\u001b[0;32m      5\u001b[0m i  \u001b[38;5;241m=\u001b[39m \u001b[38;5;241m0\u001b[39m \n\u001b[0;32m      6\u001b[0m \u001b[38;5;28;01mwhile\u001b[39;00m i \u001b[38;5;241m<\u001b[39m \u001b[38;5;241m4\u001b[39m :\n",
      "File \u001b[1;32mL:\\ProgramData\\Anaconda3\\lib\\site-packages\\ipykernel\\kernelbase.py:1075\u001b[0m, in \u001b[0;36mKernel.raw_input\u001b[1;34m(self, prompt)\u001b[0m\n\u001b[0;32m   1071\u001b[0m \u001b[38;5;28;01mif\u001b[39;00m \u001b[38;5;129;01mnot\u001b[39;00m \u001b[38;5;28mself\u001b[39m\u001b[38;5;241m.\u001b[39m_allow_stdin:\n\u001b[0;32m   1072\u001b[0m     \u001b[38;5;28;01mraise\u001b[39;00m StdinNotImplementedError(\n\u001b[0;32m   1073\u001b[0m         \u001b[38;5;124m\"\u001b[39m\u001b[38;5;124mraw_input was called, but this frontend does not support input requests.\u001b[39m\u001b[38;5;124m\"\u001b[39m\n\u001b[0;32m   1074\u001b[0m     )\n\u001b[1;32m-> 1075\u001b[0m \u001b[38;5;28;01mreturn\u001b[39;00m \u001b[38;5;28;43mself\u001b[39;49m\u001b[38;5;241;43m.\u001b[39;49m\u001b[43m_input_request\u001b[49m\u001b[43m(\u001b[49m\n\u001b[0;32m   1076\u001b[0m \u001b[43m    \u001b[49m\u001b[38;5;28;43mstr\u001b[39;49m\u001b[43m(\u001b[49m\u001b[43mprompt\u001b[49m\u001b[43m)\u001b[49m\u001b[43m,\u001b[49m\n\u001b[0;32m   1077\u001b[0m \u001b[43m    \u001b[49m\u001b[38;5;28;43mself\u001b[39;49m\u001b[38;5;241;43m.\u001b[39;49m\u001b[43m_parent_ident\u001b[49m\u001b[43m[\u001b[49m\u001b[38;5;124;43m\"\u001b[39;49m\u001b[38;5;124;43mshell\u001b[39;49m\u001b[38;5;124;43m\"\u001b[39;49m\u001b[43m]\u001b[49m\u001b[43m,\u001b[49m\n\u001b[0;32m   1078\u001b[0m \u001b[43m    \u001b[49m\u001b[38;5;28;43mself\u001b[39;49m\u001b[38;5;241;43m.\u001b[39;49m\u001b[43mget_parent\u001b[49m\u001b[43m(\u001b[49m\u001b[38;5;124;43m\"\u001b[39;49m\u001b[38;5;124;43mshell\u001b[39;49m\u001b[38;5;124;43m\"\u001b[39;49m\u001b[43m)\u001b[49m\u001b[43m,\u001b[49m\n\u001b[0;32m   1079\u001b[0m \u001b[43m    \u001b[49m\u001b[43mpassword\u001b[49m\u001b[38;5;241;43m=\u001b[39;49m\u001b[38;5;28;43;01mFalse\u001b[39;49;00m\u001b[43m,\u001b[49m\n\u001b[0;32m   1080\u001b[0m \u001b[43m\u001b[49m\u001b[43m)\u001b[49m\n",
      "File \u001b[1;32mL:\\ProgramData\\Anaconda3\\lib\\site-packages\\ipykernel\\kernelbase.py:1120\u001b[0m, in \u001b[0;36mKernel._input_request\u001b[1;34m(self, prompt, ident, parent, password)\u001b[0m\n\u001b[0;32m   1117\u001b[0m             \u001b[38;5;28;01mbreak\u001b[39;00m\n\u001b[0;32m   1118\u001b[0m \u001b[38;5;28;01mexcept\u001b[39;00m \u001b[38;5;167;01mKeyboardInterrupt\u001b[39;00m:\n\u001b[0;32m   1119\u001b[0m     \u001b[38;5;66;03m# re-raise KeyboardInterrupt, to truncate traceback\u001b[39;00m\n\u001b[1;32m-> 1120\u001b[0m     \u001b[38;5;28;01mraise\u001b[39;00m \u001b[38;5;167;01mKeyboardInterrupt\u001b[39;00m(\u001b[38;5;124m\"\u001b[39m\u001b[38;5;124mInterrupted by user\u001b[39m\u001b[38;5;124m\"\u001b[39m) \u001b[38;5;28;01mfrom\u001b[39;00m \u001b[38;5;28mNone\u001b[39m\n\u001b[0;32m   1121\u001b[0m \u001b[38;5;28;01mexcept\u001b[39;00m \u001b[38;5;167;01mException\u001b[39;00m:\n\u001b[0;32m   1122\u001b[0m     \u001b[38;5;28mself\u001b[39m\u001b[38;5;241m.\u001b[39mlog\u001b[38;5;241m.\u001b[39mwarning(\u001b[38;5;124m\"\u001b[39m\u001b[38;5;124mInvalid Message:\u001b[39m\u001b[38;5;124m\"\u001b[39m, exc_info\u001b[38;5;241m=\u001b[39m\u001b[38;5;28;01mTrue\u001b[39;00m)\n",
      "\u001b[1;31mKeyboardInterrupt\u001b[0m: Interrupted by user"
     ]
    }
   ],
   "source": [
    "\n",
    "def voisinage_solution(): \n",
    "    list = []\n",
    "    print(\"svp etree kmax\")\n",
    "    kmax=int(input())\n",
    "    i  = 0 \n",
    "    while i < 4 :\n",
    "        k = 1\n",
    "        sol = glouton(vpr, vp, obj)\n",
    "        \n",
    "        while  k <= kmax :\n",
    "            \n",
    "            vois = voisinage(glouton(vpr, vp, obj),i)\n",
    "            if (calc_som_porfait(vois,vpr) > calc_som_porfait(sol,vpr)) and (calc_som_poids(vois,vp) <= obj):\n",
    "                    sol = vois\n",
    "                    k = 1  \n",
    "                 \n",
    "            else:\n",
    "                  k = k + 1  \n",
    "            #print(\"s_trouver :\",sol,\"voisinage :\",vois,\"utilisation func de voisinage numero :\",i)        \n",
    "        list.append(sol)    \n",
    "        i = i + 1        \n",
    "    return list\n",
    "def best_solution(lst,s1):\n",
    "    \n",
    "    for i in range(0,len(lst)):\n",
    "        if ( calc_som_porfait(lst[i],vpr)> calc_som_porfait(s1,vpr) ):\n",
    "            s1 = lst[i]\n",
    "            \n",
    "            \n",
    "            \n",
    "    return s1   \n",
    "s_final_optimal = [0]*len(vpr)\n",
    "print(\"svp entree n eteration\")\n",
    "n=int(input())\n",
    "for i in range(0,n):\n",
    "    lf = voisinage_solution()  \n",
    "    s_final_optimal = best_solution(lf,s_final_optimal)\n",
    "    print(calc_som_porfait(s_final_optimal,vpr))\n",
    "    \n",
    "print(\"la meilleur solution pour chaque voisinage est :\",lf)\n",
    "print(\"la mieulleur solution que nous avons trouve est :\",s_final_optimal,\"avec un profait de :\",calc_som_porfait(s_final_optimal,vpr),\"et poids de :\",calc_som_poids(s_final_optimal,vp))\n",
    "print(\"la moyenne d'erreur est :\",moyenne_erreur(lf,knapSack(obj, vp, vpr, len(vp)),n))"
   ]
  },
  {
   "cell_type": "code",
   "execution_count": null,
   "id": "a286c16c",
   "metadata": {},
   "outputs": [],
   "source": [
    "vois_s = []\n",
    "poid_s = []\n",
    "for i in range(0,len(lf)):\n",
    "    print(calc_som_porfait(lf[i],vpr))\n",
    "    vois_s.append(calc_som_porfait(lf[i],vpr))\n",
    "    poid_s.append(calc_som_poids(lf[i],vp))\n",
    "print(vois_s) \n",
    "print(poid_s) "
   ]
  },
  {
   "cell_type": "markdown",
   "id": "c65423f2",
   "metadata": {},
   "source": [
    "import statistics\n",
    "def variance(vpr,vect):\n",
    "    ls = []\n",
    "    for i in range(0,len(vpr)):\n",
    "        ls.append(vpr[i]*vect[i])\n",
    "    print(\"la Variance de la solution optimal is % s\"%(statistics.variance(ls))) \n",
    "    \n",
    "variance(vpr,s_final_optimal)"
   ]
  },
  {
   "cell_type": "code",
   "execution_count": 17,
   "id": "1fe21cbd",
   "metadata": {},
   "outputs": [
    {
     "name": "stdout",
     "output_type": "stream",
     "text": [
      "le ecart type de la solution optimal is : 34.85182922028627\n"
     ]
    }
   ],
   "source": [
    "import statistics\n",
    "def std(vpr,vect):\n",
    "    ls = []\n",
    "    for i in range(0,len(vpr)):\n",
    "        ls.append(vpr[i]*vect[i])\n",
    "    st_dev = statistics.pstdev(ls)\n",
    "    print(\"le ecart type de la solution optimal is : \" + str(st_dev))\n",
    "std(vpr,s_final_optimal) "
   ]
  },
  {
   "cell_type": "code",
   "execution_count": 19,
   "id": "d0b42577",
   "metadata": {},
   "outputs": [
    {
     "data": {
      "image/png": "[encoded data removed]",
      "text/plain": [
       "<Figure size 2160x360 with 1 Axes>"
      ]
     },
     "metadata": {
      "needs_background": "light"
     },
     "output_type": "display_data"
    }
   ],
   "source": [
    "import matplotlib.pyplot as plt\n",
    "names = ['glouton', 'voisinage 1', 'voisinage 2', 'voisinage 3', 'voisinage 4']\n",
    "values = [calc_som_porfait(s0,vpr), vois_s[0], vois_s[1], vois_s[2], vois_s[3]]\n",
    "\n",
    "plt.figure(figsize=(30, 5))\n",
    "\n",
    "ax = plt.subplot(131)\n",
    "plt.bar(names, values,color=['black', 'red', 'green', 'blue', 'cyan'])\n",
    "plt.ylabel(\"profit\")\n",
    "plt.title('Les profit a chaque algorithme et voisinage')\n",
    "for index in range(len(values)):\n",
    "    ax.text(names[index], values[index], values[index], size=12)\n",
    "plt.show()"
   ]
  },
  {
   "cell_type": "code",
   "execution_count": null,
   "id": "ea3e157b",
   "metadata": {},
   "outputs": [],
   "source": []
  }
 ],
 "metadata": {
  "kernelspec": {
   "display_name": "Python 3 (ipykernel)",
   "language": "python",
   "name": "python3"
  },
  "language_info": {
   "codemirror_mode": {
    "name": "ipython",
    "version": 3
   },
   "file_extension": ".py",
   "mimetype": "text/x-python",
   "name": "python",
   "nbconvert_exporter": "python",
   "pygments_lexer": "ipython3",
   "version": "3.9.12"
  }
 },
 "nbformat": 4,
 "nbformat_minor": 5
}
